{
  "nbformat": 4,
  "nbformat_minor": 0,
  "metadata": {
    "colab": {
      "name": "Final_JSON_based_IMS.ipynb",
      "provenance": [],
      "collapsed_sections": []
    },
    "kernelspec": {
      "name": "python3",
      "display_name": "Python 3"
    },
    "language_info": {
      "name": "python"
    }
  },
  "cells": [
    {
      "cell_type": "code",
      "metadata": {
        "id": "wi3G1kyK3rtD"
      },
      "source": [
        "Record = {1001:{'Name' :'lakme CC'      ,'Price':100   ,'Exp.date':'Jan22'    ,'Quantity':1000    ,'Discount':5 },\n",
        "          1002:{'Name' :'Ponds Talcum'  ,'Price':100   ,'Exp.date':'Jan22'    ,'Quantity':2000    ,'Discount':5 },\n",
        "          1003:{'Name' :'Lakme compact' ,'Price':150   ,'Exp.date':'Dec21'    ,'Quantity':500     ,'Discount':10 },\n",
        "          1004:{'Name' :'Alovera Gel '  ,'Price':50    ,'Exp.date':'Feb22'    ,'Quantity':300     ,'Discount':8 },\n",
        "          1005:{'Name' :'Vaseline '     ,'Price':70    ,'Exp.date':'Nov21'    ,'Quantity':500     ,'Discount':7 },\n",
        "          1006:{'Name' :'Body Lotion'   ,'Price':110   ,'Exp.date':'Mar22'    ,'Quantity':950     ,'Discount':15 },\n",
        "          1007:{'Name' :'Nailpent'      ,'Price':30    ,'Exp.date':'Dec22'    ,'Quantity':550     ,'Discount':5 },\n",
        "          1008:{'Name' :'Lipbalm'       ,'Price':10    ,'Exp.date':'Dec24'    ,'Quantity':100     ,'Discount':2 },\n",
        "          1009:{'Name' :'Eye Liner'     ,'Price':250   ,'Exp.date':'Dec25'    ,'Quantity':400     ,'Discount':5 },\n",
        "          1010:{'Name' :'moisturiser'   ,'Price':40    ,'Exp.date':'Feb22'    ,'Quantity':5000    ,'Discount':10 },\n",
        "          1011:{'Name' :'Oriflem CC'    ,'Price':700   ,'Exp.date':'Apr24'    ,'Quantity':450     ,'Discount':10 },\n",
        "          1012:{'Name' :'Santoor'       ,'Price':50    ,'Exp.date':'Mar22'    ,'Quantity':980     ,'Discount':8 },\n",
        "          1013:{'Name' :'Moti'          ,'Price':80    ,'Exp.date':'Feb21 '   ,'Quantity':655     ,'Discount':8 },\n",
        "          1014:{'Name' :'Lux'           ,'Price':98    ,'Exp.date':'Jun25'    ,'Quantity':985     ,'Discount':6 },\n",
        "          1015:{'Name' :'Himalaya    '  ,'Price':85    ,'Exp.date':'Dec21'    ,'Quantity':550     ,'Discount':6 },\n",
        "          1016:{'Name' :'Pears'         ,'Price':75    ,'Exp.date':'Dec21'    ,'Quantity':1000    ,'Discount':6 },\n",
        "          1017:{'Name' :'Himalaya Scrub','Price':10    ,'Exp.date':'Nov22'    ,'Quantity':660     ,'Discount':2 },\n",
        "          1018:{'Name' :'Pill of mask'  ,'Price':10    ,'Exp.date':'Nov23'    ,'Quantity':200     ,'Discount':20 },\n",
        "          1019:{'Name' :'Everuth nut'   ,'Price':10    ,'Exp.date':'Dec26'    ,'Quantity':300     ,'Discount':10 },\n",
        "          1020:{'Name' :'Lipstic'       ,'Price':300   ,'Exp.date':'May22'    ,'Quantity':650     ,'Discount':12 },\n",
        "          1021:{'Name' :'Lip Gloss'     ,'Price':70    ,'Exp.date':'Dec25'    ,'Quantity':90      ,'Discount':20 },\n",
        "          1022:{'Name' :'Bindi Packet'  ,'Price':50    ,'Exp.date':'Dec25'    ,'Quantity':1000    ,'Discount':20 },\n",
        "          1023:{'Name' :'Eye shadow'    ,'Price':150   ,'Exp.date':'Dec24'    ,'Quantity':122     ,'Discount':15 },\n",
        "          1024:{'Name' :'Sunscreen'     ,'Price':100   ,'Exp.date':'Jan30'    ,'Quantity':50      ,'Discount':25 },\n",
        "          1025:{'Name' :'Ear Ring'      ,'Price':500   ,'Exp.date':'Jan35'    ,'Quantity':800     ,'Discount':25 },\n",
        "          1026:{'Name' :'Nose Pin'      ,'Price':250   ,'Exp.date':'Aug24'    ,'Quantity':60      ,'Discount':10 },\n",
        "          1027:{'Name' :'Bangles'       ,'Price':100   ,'Exp.date':'Sept23'   ,'Quantity':500     ,'Discount':15 },\n",
        "          1028:{'Name' :'Payal'         ,'Price':250   ,'Exp.date':'Oct24'    ,'Quantity':200     ,'Discount':9 },\n",
        "          1029:{'Name' :'Glow & Lovly'  ,'Price':50    ,'Exp.date':'Nov30'    ,'Quantity':1000     ,'Discount':5 },\n",
        "          1030:{'Name' :'Fair &Handsome','Price':40    ,'Exp.date':'Jan23'    ,'Quantity':500     ,'Discount':3 }}"
      ],
      "execution_count": 89,
      "outputs": []
    },
    {
      "cell_type": "code",
      "metadata": {
        "id": "WvQXeckZ39SE"
      },
      "source": [
        "import json"
      ],
      "execution_count": 90,
      "outputs": []
    },
    {
      "cell_type": "code",
      "metadata": {
        "id": "s5y0jEZ34IPK"
      },
      "source": [
        "js = json.dumps(Record)"
      ],
      "execution_count": 91,
      "outputs": []
    },
    {
      "cell_type": "code",
      "metadata": {
        "colab": {
          "base_uri": "https://localhost:8080/",
          "height": 171
        },
        "id": "ivTedvHw4O8G",
        "outputId": "12f7bb4e-5dbb-4eac-b7f1-0a00ea175f3a"
      },
      "source": [
        "js"
      ],
      "execution_count": 92,
      "outputs": [
        {
          "output_type": "execute_result",
          "data": {
            "application/vnd.google.colaboratory.intrinsic+json": {
              "type": "string"
            },
            "text/plain": [
              "'{\"1001\": {\"Name\": \"lakme CC\", \"Price\": 100, \"Exp.date\": \"Jan22\", \"Quantity\": 1000, \"Discount\": 5}, \"1002\": {\"Name\": \"Ponds Talcum\", \"Price\": 100, \"Exp.date\": \"Jan22\", \"Quantity\": 2000, \"Discount\": 5}, \"1003\": {\"Name\": \"Lakme compact\", \"Price\": 150, \"Exp.date\": \"Dec21\", \"Quantity\": 500, \"Discount\": 10}, \"1004\": {\"Name\": \"Alovera Gel \", \"Price\": 50, \"Exp.date\": \"Feb22\", \"Quantity\": 300, \"Discount\": 8}, \"1005\": {\"Name\": \"Vaseline \", \"Price\": 70, \"Exp.date\": \"Nov21\", \"Quantity\": 500, \"Discount\": 7}, \"1006\": {\"Name\": \"Body Lotion\", \"Price\": 110, \"Exp.date\": \"Mar22\", \"Quantity\": 950, \"Discount\": 15}, \"1007\": {\"Name\": \"Nailpent\", \"Price\": 30, \"Exp.date\": \"Dec22\", \"Quantity\": 550, \"Discount\": 5}, \"1008\": {\"Name\": \"Lipbalm\", \"Price\": 10, \"Exp.date\": \"Dec24\", \"Quantity\": 100, \"Discount\": 2}, \"1009\": {\"Name\": \"Eye Liner\", \"Price\": 250, \"Exp.date\": \"Dec25\", \"Quantity\": 400, \"Discount\": 5}, \"1010\": {\"Name\": \"moisturiser\", \"Price\": 40, \"Exp.date\": \"Feb22\", \"Quantity\": 5000, \"Discount\": 10}, \"1011\": {\"Name\": \"Oriflem CC\", \"Price\": 700, \"Exp.date\": \"Apr24\", \"Quantity\": 450, \"Discount\": 10}, \"1012\": {\"Name\": \"Santoor\", \"Price\": 50, \"Exp.date\": \"Mar22\", \"Quantity\": 980, \"Discount\": 8}, \"1013\": {\"Name\": \"Moti\", \"Price\": 80, \"Exp.date\": \"Feb21 \", \"Quantity\": 655, \"Discount\": 8}, \"1014\": {\"Name\": \"Lux\", \"Price\": 98, \"Exp.date\": \"Jun25\", \"Quantity\": 985, \"Discount\": 6}, \"1015\": {\"Name\": \"Himalaya    \", \"Price\": 85, \"Exp.date\": \"Dec21\", \"Quantity\": 550, \"Discount\": 6}, \"1016\": {\"Name\": \"Pears\", \"Price\": 75, \"Exp.date\": \"Dec21\", \"Quantity\": 1000, \"Discount\": 6}, \"1017\": {\"Name\": \"Himalaya Scrub\", \"Price\": 10, \"Exp.date\": \"Nov22\", \"Quantity\": 660, \"Discount\": 2}, \"1018\": {\"Name\": \"Pill of mask\", \"Price\": 10, \"Exp.date\": \"Nov23\", \"Quantity\": 200, \"Discount\": 20}, \"1019\": {\"Name\": \"Everuth nut\", \"Price\": 10, \"Exp.date\": \"Dec26\", \"Quantity\": 300, \"Discount\": 10}, \"1020\": {\"Name\": \"Lipstic\", \"Price\": 300, \"Exp.date\": \"May22\", \"Quantity\": 650, \"Discount\": 12}, \"1021\": {\"Name\": \"Lip Gloss\", \"Price\": 70, \"Exp.date\": \"Dec25\", \"Quantity\": 90, \"Discount\": 20}, \"1022\": {\"Name\": \"Bindi Packet\", \"Price\": 50, \"Exp.date\": \"Dec25\", \"Quantity\": 1000, \"Discount\": 20}, \"1023\": {\"Name\": \"Eye shadow\", \"Price\": 150, \"Exp.date\": \"Dec24\", \"Quantity\": 122, \"Discount\": 15}, \"1024\": {\"Name\": \"Sunscreen\", \"Price\": 100, \"Exp.date\": \"Jan30\", \"Quantity\": 50, \"Discount\": 25}, \"1025\": {\"Name\": \"Ear Ring\", \"Price\": 500, \"Exp.date\": \"Jan35\", \"Quantity\": 800, \"Discount\": 25}, \"1026\": {\"Name\": \"Nose Pin\", \"Price\": 250, \"Exp.date\": \"Aug24\", \"Quantity\": 60, \"Discount\": 10}, \"1027\": {\"Name\": \"Bangles\", \"Price\": 100, \"Exp.date\": \"Sept23\", \"Quantity\": 500, \"Discount\": 15}, \"1028\": {\"Name\": \"Payal\", \"Price\": 250, \"Exp.date\": \"Oct24\", \"Quantity\": 200, \"Discount\": 9}, \"1029\": {\"Name\": \"Glow & Lovly\", \"Price\": 50, \"Exp.date\": \"Nov30\", \"Quantity\": 1000, \"Discount\": 5}, \"1030\": {\"Name\": \"Fair &Handsome\", \"Price\": 40, \"Exp.date\": \"Jan23\", \"Quantity\": 500, \"Discount\": 3}}'"
            ]
          },
          "metadata": {},
          "execution_count": 92
        }
      ]
    },
    {
      "cell_type": "code",
      "metadata": {
        "id": "RpvCmqlq4TpQ"
      },
      "source": [
        "fd = open(\"Record.json\",'w')\n",
        "\n",
        "fd.write(js)\n",
        "\n",
        "fd.close()"
      ],
      "execution_count": 93,
      "outputs": []
    },
    {
      "cell_type": "code",
      "metadata": {
        "id": "jCZs5StR4aHL"
      },
      "source": [
        "fd = open('Record.json','r')\n",
        "\n",
        "txt=fd.read()\n",
        "\n",
        "fd.close()"
      ],
      "execution_count": 94,
      "outputs": []
    },
    {
      "cell_type": "code",
      "metadata": {
        "colab": {
          "base_uri": "https://localhost:8080/",
          "height": 171
        },
        "id": "MjN82aQV4gAl",
        "outputId": "41d13079-e320-48f0-e698-f9546e10cf77"
      },
      "source": [
        "txt"
      ],
      "execution_count": 95,
      "outputs": [
        {
          "output_type": "execute_result",
          "data": {
            "application/vnd.google.colaboratory.intrinsic+json": {
              "type": "string"
            },
            "text/plain": [
              "'{\"1001\": {\"Name\": \"lakme CC\", \"Price\": 100, \"Exp.date\": \"Jan22\", \"Quantity\": 1000, \"Discount\": 5}, \"1002\": {\"Name\": \"Ponds Talcum\", \"Price\": 100, \"Exp.date\": \"Jan22\", \"Quantity\": 2000, \"Discount\": 5}, \"1003\": {\"Name\": \"Lakme compact\", \"Price\": 150, \"Exp.date\": \"Dec21\", \"Quantity\": 500, \"Discount\": 10}, \"1004\": {\"Name\": \"Alovera Gel \", \"Price\": 50, \"Exp.date\": \"Feb22\", \"Quantity\": 300, \"Discount\": 8}, \"1005\": {\"Name\": \"Vaseline \", \"Price\": 70, \"Exp.date\": \"Nov21\", \"Quantity\": 500, \"Discount\": 7}, \"1006\": {\"Name\": \"Body Lotion\", \"Price\": 110, \"Exp.date\": \"Mar22\", \"Quantity\": 950, \"Discount\": 15}, \"1007\": {\"Name\": \"Nailpent\", \"Price\": 30, \"Exp.date\": \"Dec22\", \"Quantity\": 550, \"Discount\": 5}, \"1008\": {\"Name\": \"Lipbalm\", \"Price\": 10, \"Exp.date\": \"Dec24\", \"Quantity\": 100, \"Discount\": 2}, \"1009\": {\"Name\": \"Eye Liner\", \"Price\": 250, \"Exp.date\": \"Dec25\", \"Quantity\": 400, \"Discount\": 5}, \"1010\": {\"Name\": \"moisturiser\", \"Price\": 40, \"Exp.date\": \"Feb22\", \"Quantity\": 5000, \"Discount\": 10}, \"1011\": {\"Name\": \"Oriflem CC\", \"Price\": 700, \"Exp.date\": \"Apr24\", \"Quantity\": 450, \"Discount\": 10}, \"1012\": {\"Name\": \"Santoor\", \"Price\": 50, \"Exp.date\": \"Mar22\", \"Quantity\": 980, \"Discount\": 8}, \"1013\": {\"Name\": \"Moti\", \"Price\": 80, \"Exp.date\": \"Feb21 \", \"Quantity\": 655, \"Discount\": 8}, \"1014\": {\"Name\": \"Lux\", \"Price\": 98, \"Exp.date\": \"Jun25\", \"Quantity\": 985, \"Discount\": 6}, \"1015\": {\"Name\": \"Himalaya    \", \"Price\": 85, \"Exp.date\": \"Dec21\", \"Quantity\": 550, \"Discount\": 6}, \"1016\": {\"Name\": \"Pears\", \"Price\": 75, \"Exp.date\": \"Dec21\", \"Quantity\": 1000, \"Discount\": 6}, \"1017\": {\"Name\": \"Himalaya Scrub\", \"Price\": 10, \"Exp.date\": \"Nov22\", \"Quantity\": 660, \"Discount\": 2}, \"1018\": {\"Name\": \"Pill of mask\", \"Price\": 10, \"Exp.date\": \"Nov23\", \"Quantity\": 200, \"Discount\": 20}, \"1019\": {\"Name\": \"Everuth nut\", \"Price\": 10, \"Exp.date\": \"Dec26\", \"Quantity\": 300, \"Discount\": 10}, \"1020\": {\"Name\": \"Lipstic\", \"Price\": 300, \"Exp.date\": \"May22\", \"Quantity\": 650, \"Discount\": 12}, \"1021\": {\"Name\": \"Lip Gloss\", \"Price\": 70, \"Exp.date\": \"Dec25\", \"Quantity\": 90, \"Discount\": 20}, \"1022\": {\"Name\": \"Bindi Packet\", \"Price\": 50, \"Exp.date\": \"Dec25\", \"Quantity\": 1000, \"Discount\": 20}, \"1023\": {\"Name\": \"Eye shadow\", \"Price\": 150, \"Exp.date\": \"Dec24\", \"Quantity\": 122, \"Discount\": 15}, \"1024\": {\"Name\": \"Sunscreen\", \"Price\": 100, \"Exp.date\": \"Jan30\", \"Quantity\": 50, \"Discount\": 25}, \"1025\": {\"Name\": \"Ear Ring\", \"Price\": 500, \"Exp.date\": \"Jan35\", \"Quantity\": 800, \"Discount\": 25}, \"1026\": {\"Name\": \"Nose Pin\", \"Price\": 250, \"Exp.date\": \"Aug24\", \"Quantity\": 60, \"Discount\": 10}, \"1027\": {\"Name\": \"Bangles\", \"Price\": 100, \"Exp.date\": \"Sept23\", \"Quantity\": 500, \"Discount\": 15}, \"1028\": {\"Name\": \"Payal\", \"Price\": 250, \"Exp.date\": \"Oct24\", \"Quantity\": 200, \"Discount\": 9}, \"1029\": {\"Name\": \"Glow & Lovly\", \"Price\": 50, \"Exp.date\": \"Nov30\", \"Quantity\": 1000, \"Discount\": 5}, \"1030\": {\"Name\": \"Fair &Handsome\", \"Price\": 40, \"Exp.date\": \"Jan23\", \"Quantity\": 500, \"Discount\": 3}}'"
            ]
          },
          "metadata": {},
          "execution_count": 95
        }
      ]
    },
    {
      "cell_type": "code",
      "metadata": {
        "id": "imp-7wVH4lfb"
      },
      "source": [
        "product = json.loads(txt)"
      ],
      "execution_count": 96,
      "outputs": []
    },
    {
      "cell_type": "code",
      "metadata": {
        "colab": {
          "base_uri": "https://localhost:8080/"
        },
        "id": "xPYWh6J04sXT",
        "outputId": "a538dbe7-7f72-4b7b-b16f-084bff702897"
      },
      "source": [
        "product"
      ],
      "execution_count": 97,
      "outputs": [
        {
          "output_type": "execute_result",
          "data": {
            "text/plain": [
              "{'1001': {'Discount': 5,\n",
              "  'Exp.date': 'Jan22',\n",
              "  'Name': 'lakme CC',\n",
              "  'Price': 100,\n",
              "  'Quantity': 1000},\n",
              " '1002': {'Discount': 5,\n",
              "  'Exp.date': 'Jan22',\n",
              "  'Name': 'Ponds Talcum',\n",
              "  'Price': 100,\n",
              "  'Quantity': 2000},\n",
              " '1003': {'Discount': 10,\n",
              "  'Exp.date': 'Dec21',\n",
              "  'Name': 'Lakme compact',\n",
              "  'Price': 150,\n",
              "  'Quantity': 500},\n",
              " '1004': {'Discount': 8,\n",
              "  'Exp.date': 'Feb22',\n",
              "  'Name': 'Alovera Gel ',\n",
              "  'Price': 50,\n",
              "  'Quantity': 300},\n",
              " '1005': {'Discount': 7,\n",
              "  'Exp.date': 'Nov21',\n",
              "  'Name': 'Vaseline ',\n",
              "  'Price': 70,\n",
              "  'Quantity': 500},\n",
              " '1006': {'Discount': 15,\n",
              "  'Exp.date': 'Mar22',\n",
              "  'Name': 'Body Lotion',\n",
              "  'Price': 110,\n",
              "  'Quantity': 950},\n",
              " '1007': {'Discount': 5,\n",
              "  'Exp.date': 'Dec22',\n",
              "  'Name': 'Nailpent',\n",
              "  'Price': 30,\n",
              "  'Quantity': 550},\n",
              " '1008': {'Discount': 2,\n",
              "  'Exp.date': 'Dec24',\n",
              "  'Name': 'Lipbalm',\n",
              "  'Price': 10,\n",
              "  'Quantity': 100},\n",
              " '1009': {'Discount': 5,\n",
              "  'Exp.date': 'Dec25',\n",
              "  'Name': 'Eye Liner',\n",
              "  'Price': 250,\n",
              "  'Quantity': 400},\n",
              " '1010': {'Discount': 10,\n",
              "  'Exp.date': 'Feb22',\n",
              "  'Name': 'moisturiser',\n",
              "  'Price': 40,\n",
              "  'Quantity': 5000},\n",
              " '1011': {'Discount': 10,\n",
              "  'Exp.date': 'Apr24',\n",
              "  'Name': 'Oriflem CC',\n",
              "  'Price': 700,\n",
              "  'Quantity': 450},\n",
              " '1012': {'Discount': 8,\n",
              "  'Exp.date': 'Mar22',\n",
              "  'Name': 'Santoor',\n",
              "  'Price': 50,\n",
              "  'Quantity': 980},\n",
              " '1013': {'Discount': 8,\n",
              "  'Exp.date': 'Feb21 ',\n",
              "  'Name': 'Moti',\n",
              "  'Price': 80,\n",
              "  'Quantity': 655},\n",
              " '1014': {'Discount': 6,\n",
              "  'Exp.date': 'Jun25',\n",
              "  'Name': 'Lux',\n",
              "  'Price': 98,\n",
              "  'Quantity': 985},\n",
              " '1015': {'Discount': 6,\n",
              "  'Exp.date': 'Dec21',\n",
              "  'Name': 'Himalaya    ',\n",
              "  'Price': 85,\n",
              "  'Quantity': 550},\n",
              " '1016': {'Discount': 6,\n",
              "  'Exp.date': 'Dec21',\n",
              "  'Name': 'Pears',\n",
              "  'Price': 75,\n",
              "  'Quantity': 1000},\n",
              " '1017': {'Discount': 2,\n",
              "  'Exp.date': 'Nov22',\n",
              "  'Name': 'Himalaya Scrub',\n",
              "  'Price': 10,\n",
              "  'Quantity': 660},\n",
              " '1018': {'Discount': 20,\n",
              "  'Exp.date': 'Nov23',\n",
              "  'Name': 'Pill of mask',\n",
              "  'Price': 10,\n",
              "  'Quantity': 200},\n",
              " '1019': {'Discount': 10,\n",
              "  'Exp.date': 'Dec26',\n",
              "  'Name': 'Everuth nut',\n",
              "  'Price': 10,\n",
              "  'Quantity': 300},\n",
              " '1020': {'Discount': 12,\n",
              "  'Exp.date': 'May22',\n",
              "  'Name': 'Lipstic',\n",
              "  'Price': 300,\n",
              "  'Quantity': 650},\n",
              " '1021': {'Discount': 20,\n",
              "  'Exp.date': 'Dec25',\n",
              "  'Name': 'Lip Gloss',\n",
              "  'Price': 70,\n",
              "  'Quantity': 90},\n",
              " '1022': {'Discount': 20,\n",
              "  'Exp.date': 'Dec25',\n",
              "  'Name': 'Bindi Packet',\n",
              "  'Price': 50,\n",
              "  'Quantity': 1000},\n",
              " '1023': {'Discount': 15,\n",
              "  'Exp.date': 'Dec24',\n",
              "  'Name': 'Eye shadow',\n",
              "  'Price': 150,\n",
              "  'Quantity': 122},\n",
              " '1024': {'Discount': 25,\n",
              "  'Exp.date': 'Jan30',\n",
              "  'Name': 'Sunscreen',\n",
              "  'Price': 100,\n",
              "  'Quantity': 50},\n",
              " '1025': {'Discount': 25,\n",
              "  'Exp.date': 'Jan35',\n",
              "  'Name': 'Ear Ring',\n",
              "  'Price': 500,\n",
              "  'Quantity': 800},\n",
              " '1026': {'Discount': 10,\n",
              "  'Exp.date': 'Aug24',\n",
              "  'Name': 'Nose Pin',\n",
              "  'Price': 250,\n",
              "  'Quantity': 60},\n",
              " '1027': {'Discount': 15,\n",
              "  'Exp.date': 'Sept23',\n",
              "  'Name': 'Bangles',\n",
              "  'Price': 100,\n",
              "  'Quantity': 500},\n",
              " '1028': {'Discount': 9,\n",
              "  'Exp.date': 'Oct24',\n",
              "  'Name': 'Payal',\n",
              "  'Price': 250,\n",
              "  'Quantity': 200},\n",
              " '1029': {'Discount': 5,\n",
              "  'Exp.date': 'Nov30',\n",
              "  'Name': 'Glow & Lovly',\n",
              "  'Price': 50,\n",
              "  'Quantity': 1000},\n",
              " '1030': {'Discount': 3,\n",
              "  'Exp.date': 'Jan23',\n",
              "  'Name': 'Fair &Handsome',\n",
              "  'Price': 40,\n",
              "  'Quantity': 500}}"
            ]
          },
          "metadata": {},
          "execution_count": 97
        }
      ]
    },
    {
      "cell_type": "code",
      "metadata": {
        "id": "mmFOl6x64vUP"
      },
      "source": [
        "import time"
      ],
      "execution_count": 98,
      "outputs": []
    },
    {
      "cell_type": "code",
      "metadata": {
        "colab": {
          "base_uri": "https://localhost:8080/"
        },
        "id": "5xJT79Jf43yC",
        "outputId": "b78d06b7-b209-4200-ebc0-707462f951c6"
      },
      "source": [
        "print(\"*****WELCOME TO THE SHOP*****\")\n",
        "\n",
        "ui_name=input('Enter the User Name :')\n",
        "\n",
        "print(Record)\n",
        "\n",
        "ui_prod = str(input(\"Enter the product ID :\"))\n",
        "\n",
        "ui_quan = int(input(\"Enter the Quantity :\"))\n",
        "\n",
        "if(ui_prod in Record):\n",
        "  print('Date and Time :',time.ctime())\n",
        "  print('Name of custmer :',ui_name)\n",
        "  print('Name of selected product ID :',product[ui_prod]['Name'])\n",
        "  print('Price of selected product Id :',product[ui_prod]['Price'])\n",
        "  print('*****CONGRATULATION YOU HAVE OWN DISCOUNT ON THIS PRODUCT*****')\n",
        "  print('Discount :',product[ui_prod]['Discount'])\n",
        "  print('*****PRINTING BILLING AMOUNT*****')\n",
        "  gen_bill=(product[ui_prod]['Price']*ui_quan)-((product[ui_prod]['Price']*ui_quan)*product[ui_prod]['Discount'])/100\n",
        "  print('Billing Amount :',gen_bill)\n",
        "  print(\"Thank you for visting our shop\")\n",
        "  \n",
        "\n",
        "  product[ui_prod]['Quantuty']=product[ui_prod]['Quantity']-ui_quan"
      ],
      "execution_count": 99,
      "outputs": [
        {
          "name": "stdout",
          "output_type": "stream",
          "text": [
            "*****WELCOME TO THE SHOP*****\n",
            "Enter the User Name :Shashank\n",
            "{1001: {'Name': 'lakme CC', 'Price': 100, 'Exp.date': 'Jan22', 'Quantity': 1000, 'Discount': 5}, 1002: {'Name': 'Ponds Talcum', 'Price': 100, 'Exp.date': 'Jan22', 'Quantity': 2000, 'Discount': 5}, 1003: {'Name': 'Lakme compact', 'Price': 150, 'Exp.date': 'Dec21', 'Quantity': 500, 'Discount': 10}, 1004: {'Name': 'Alovera Gel ', 'Price': 50, 'Exp.date': 'Feb22', 'Quantity': 300, 'Discount': 8}, 1005: {'Name': 'Vaseline ', 'Price': 70, 'Exp.date': 'Nov21', 'Quantity': 500, 'Discount': 7}, 1006: {'Name': 'Body Lotion', 'Price': 110, 'Exp.date': 'Mar22', 'Quantity': 950, 'Discount': 15}, 1007: {'Name': 'Nailpent', 'Price': 30, 'Exp.date': 'Dec22', 'Quantity': 550, 'Discount': 5}, 1008: {'Name': 'Lipbalm', 'Price': 10, 'Exp.date': 'Dec24', 'Quantity': 100, 'Discount': 2}, 1009: {'Name': 'Eye Liner', 'Price': 250, 'Exp.date': 'Dec25', 'Quantity': 400, 'Discount': 5}, 1010: {'Name': 'moisturiser', 'Price': 40, 'Exp.date': 'Feb22', 'Quantity': 5000, 'Discount': 10}, 1011: {'Name': 'Oriflem CC', 'Price': 700, 'Exp.date': 'Apr24', 'Quantity': 450, 'Discount': 10}, 1012: {'Name': 'Santoor', 'Price': 50, 'Exp.date': 'Mar22', 'Quantity': 980, 'Discount': 8}, 1013: {'Name': 'Moti', 'Price': 80, 'Exp.date': 'Feb21 ', 'Quantity': 655, 'Discount': 8}, 1014: {'Name': 'Lux', 'Price': 98, 'Exp.date': 'Jun25', 'Quantity': 985, 'Discount': 6}, 1015: {'Name': 'Himalaya    ', 'Price': 85, 'Exp.date': 'Dec21', 'Quantity': 550, 'Discount': 6}, 1016: {'Name': 'Pears', 'Price': 75, 'Exp.date': 'Dec21', 'Quantity': 1000, 'Discount': 6}, 1017: {'Name': 'Himalaya Scrub', 'Price': 10, 'Exp.date': 'Nov22', 'Quantity': 660, 'Discount': 2}, 1018: {'Name': 'Pill of mask', 'Price': 10, 'Exp.date': 'Nov23', 'Quantity': 200, 'Discount': 20}, 1019: {'Name': 'Everuth nut', 'Price': 10, 'Exp.date': 'Dec26', 'Quantity': 300, 'Discount': 10}, 1020: {'Name': 'Lipstic', 'Price': 300, 'Exp.date': 'May22', 'Quantity': 650, 'Discount': 12}, 1021: {'Name': 'Lip Gloss', 'Price': 70, 'Exp.date': 'Dec25', 'Quantity': 90, 'Discount': 20}, 1022: {'Name': 'Bindi Packet', 'Price': 50, 'Exp.date': 'Dec25', 'Quantity': 1000, 'Discount': 20}, 1023: {'Name': 'Eye shadow', 'Price': 150, 'Exp.date': 'Dec24', 'Quantity': 122, 'Discount': 15}, 1024: {'Name': 'Sunscreen', 'Price': 100, 'Exp.date': 'Jan30', 'Quantity': 50, 'Discount': 25}, 1025: {'Name': 'Ear Ring', 'Price': 500, 'Exp.date': 'Jan35', 'Quantity': 800, 'Discount': 25}, 1026: {'Name': 'Nose Pin', 'Price': 250, 'Exp.date': 'Aug24', 'Quantity': 60, 'Discount': 10}, 1027: {'Name': 'Bangles', 'Price': 100, 'Exp.date': 'Sept23', 'Quantity': 500, 'Discount': 15}, 1028: {'Name': 'Payal', 'Price': 250, 'Exp.date': 'Oct24', 'Quantity': 200, 'Discount': 9}, 1029: {'Name': 'Glow & Lovly', 'Price': 50, 'Exp.date': 'Nov30', 'Quantity': 1000, 'Discount': 5}, 1030: {'Name': 'Fair &Handsome', 'Price': 40, 'Exp.date': 'Jan23', 'Quantity': 500, 'Discount': 3}}\n",
            "Enter the product ID :1005\n",
            "Enter the Quantity :5\n"
          ]
        }
      ]
    },
    {
      "cell_type": "code",
      "metadata": {
        "id": "qQ6y0pOa4-yv"
      },
      "source": [
        "import random"
      ],
      "execution_count": 100,
      "outputs": []
    },
    {
      "cell_type": "code",
      "metadata": {
        "id": "z_wxNz055VHK"
      },
      "source": [
        "trans_ID = random.uniform(1 , 100000)"
      ],
      "execution_count": 101,
      "outputs": []
    },
    {
      "cell_type": "code",
      "metadata": {
        "id": "5ixOTKrr5ZDB"
      },
      "source": [
        "Transaction={'trans_ID':trans_ID  ,'product':product[ui_prod]['Name']  ,'price':product[ui_prod]['Price']  ,'Quantity':ui_quan  ,'gen_bill':(product[ui_prod]['Price']*ui_quan)-((product[ui_prod]['Price']*ui_quan)*product[ui_prod]['Discount'])/100}"
      ],
      "execution_count": 102,
      "outputs": []
    },
    {
      "cell_type": "code",
      "metadata": {
        "colab": {
          "base_uri": "https://localhost:8080/"
        },
        "id": "dvpSfAW35ffo",
        "outputId": "f547fbce-6baf-4c8e-8819-102270a54c53"
      },
      "source": [
        "Transaction"
      ],
      "execution_count": 103,
      "outputs": [
        {
          "output_type": "execute_result",
          "data": {
            "text/plain": [
              "{'Quantity': 5,\n",
              " 'gen_bill': 325.5,\n",
              " 'price': 70,\n",
              " 'product': 'Vaseline ',\n",
              " 'trans_ID': 31843.169247727386}"
            ]
          },
          "metadata": {},
          "execution_count": 103
        }
      ]
    },
    {
      "cell_type": "code",
      "metadata": {
        "id": "MRGs1pR05iHv"
      },
      "source": [
        "ts = json.dumps(Transaction)"
      ],
      "execution_count": 104,
      "outputs": []
    },
    {
      "cell_type": "code",
      "metadata": {
        "id": "gISQ5dF75qwM"
      },
      "source": [
        "ts = ts + '\\n'"
      ],
      "execution_count": 105,
      "outputs": []
    },
    {
      "cell_type": "code",
      "metadata": {
        "colab": {
          "base_uri": "https://localhost:8080/",
          "height": 35
        },
        "id": "Wg6Np0IN9jiX",
        "outputId": "9b207caf-0730-4e3e-bd39-66a11f4e0b4b"
      },
      "source": [
        "ts"
      ],
      "execution_count": 106,
      "outputs": [
        {
          "output_type": "execute_result",
          "data": {
            "application/vnd.google.colaboratory.intrinsic+json": {
              "type": "string"
            },
            "text/plain": [
              "'{\"trans_ID\": 31843.169247727386, \"product\": \"Vaseline \", \"price\": 70, \"Quantity\": 5, \"gen_bill\": 325.5}\\n'"
            ]
          },
          "metadata": {},
          "execution_count": 106
        }
      ]
    },
    {
      "cell_type": "code",
      "metadata": {
        "id": "HYEBJv295th7"
      },
      "source": [
        "fd = open(\"sales.json\",'w')\n",
        "\n",
        "fd.write(ts)\n",
        "\n",
        "fd.close()"
      ],
      "execution_count": 107,
      "outputs": []
    },
    {
      "cell_type": "code",
      "metadata": {
        "id": "J6mDY3B050su"
      },
      "source": [
        ""
      ],
      "execution_count": 107,
      "outputs": []
    }
  ]
}